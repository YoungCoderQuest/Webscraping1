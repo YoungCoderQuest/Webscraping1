{
 "cells": [
  {
   "cell_type": "markdown",
   "id": "6f59c9dd",
   "metadata": {},
   "source": [
    "## Use the requests library to download web pages"
   ]
  },
  {
   "cell_type": "markdown",
   "id": "b953f8e7",
   "metadata": {},
   "source": [
    "- Inspect the website's HTML source and identify the right URLs to download.\n",
    "- Download and save web pages locally using the requests library.\n",
    "- Create a function to automate downloading for different topics/search queries."
   ]
  },
  {
   "cell_type": "code",
   "execution_count": 158,
   "id": "ee20e2b1",
   "metadata": {},
   "outputs": [],
   "source": [
    "import requests"
   ]
  },
  {
   "cell_type": "code",
   "execution_count": 159,
   "id": "29c0d176",
   "metadata": {},
   "outputs": [],
   "source": [
    "topics_URL= 'https://github.com/topics'"
   ]
  },
  {
   "cell_type": "code",
   "execution_count": 160,
   "id": "4ad99152",
   "metadata": {},
   "outputs": [],
   "source": [
    "response = requests.get (topics_URL)"
   ]
  },
  {
   "cell_type": "code",
   "execution_count": 161,
   "id": "e82e7d6f",
   "metadata": {},
   "outputs": [
    {
     "data": {
      "text/plain": [
       "200"
      ]
     },
     "execution_count": 161,
     "metadata": {},
     "output_type": "execute_result"
    }
   ],
   "source": [
    "response.status_code"
   ]
  },
  {
   "cell_type": "code",
   "execution_count": 162,
   "id": "663aa984",
   "metadata": {},
   "outputs": [
    {
     "data": {
      "text/plain": [
       "164723"
      ]
     },
     "execution_count": 162,
     "metadata": {},
     "output_type": "execute_result"
    }
   ],
   "source": [
    "len(response.text)"
   ]
  },
  {
   "cell_type": "code",
   "execution_count": 163,
   "id": "53af958d",
   "metadata": {},
   "outputs": [],
   "source": [
    "page_contents=response.text"
   ]
  },
  {
   "cell_type": "code",
   "execution_count": 164,
   "id": "673aa251",
   "metadata": {},
   "outputs": [
    {
     "data": {
      "text/plain": [
       "'\\n\\n<!DOCTYPE html>\\n<html lang=\"en\" data-color-mode=\"auto\" data-light-theme=\"light\" data-dark-theme=\"dark\"  data-a11y-animated-images=\"system\" data-a11y-link-underlines=\"false\">\\n  <head>\\n    <meta charset=\"utf-8\">\\n  <link rel=\"dns-prefetch\" href=\"https://github.githubassets.com\">\\n  <link rel=\"dns-prefetch\" href=\"https://avatars.githubusercontent.com\">\\n  <link rel=\"dns-prefetch\" href=\"https://github-cloud.s3.amazonaws.com\">\\n  <link rel=\"dns-prefetch\" href=\"https://user-images.githubusercontent.com/\">\\n  <link rel=\"preconnect\" href=\"https://github.githubassets.com\" crossorigin>\\n  <link rel=\"preconnect\" href=\"https://avatars.githubusercontent.com\">\\n\\n  \\n\\n  <link crossorigin=\"anonymous\" media=\"all\" rel=\"stylesheet\" href=\"https://github.githubassets.com/assets/light-8cafbcbd78f4.css\" /><link crossorigin=\"anonymous\" media=\"all\" rel=\"stylesheet\" href=\"https://github.githubassets.com/assets/dark-31dc14e38457.css\" /><link data-color-theme=\"dark_dimmed\" crossorigin=\"anonymous\" media=\"all\" rel=\"style'"
      ]
     },
     "execution_count": 164,
     "metadata": {},
     "output_type": "execute_result"
    }
   ],
   "source": [
    "page_contents[:1000]"
   ]
  },
  {
   "cell_type": "code",
   "execution_count": 165,
   "id": "76c70530",
   "metadata": {},
   "outputs": [],
   "source": [
    "with open('webpage.html', 'w', encoding='utf-8') as f:\n",
    "    f.write(page_contents)\n"
   ]
  },
  {
   "cell_type": "markdown",
   "id": "ec8cb0b2",
   "metadata": {},
   "source": [
    "## Use Beautiful Soup to parse and extract information"
   ]
  },
  {
   "cell_type": "markdown",
   "id": "14054c89",
   "metadata": {},
   "source": [
    "- Parse and explore the structure of downloaded web pages using Beautiful soup.\n",
    "- Use the right properties and methods to extract the required information.\n",
    "- Create functions to extract from the page into lists and dictionaries.\n",
    "- (Optional) Use a REST API to acquire additional information if required."
   ]
  },
  {
   "cell_type": "code",
   "execution_count": 166,
   "id": "564f0ecf",
   "metadata": {},
   "outputs": [],
   "source": [
    "from bs4 import BeautifulSoup"
   ]
  },
  {
   "cell_type": "code",
   "execution_count": 167,
   "id": "279d5d68",
   "metadata": {},
   "outputs": [],
   "source": [
    "doc = BeautifulSoup(page_contents,'html.parser')"
   ]
  },
  {
   "cell_type": "code",
   "execution_count": 168,
   "id": "c8356199",
   "metadata": {},
   "outputs": [],
   "source": [
    "topic_title_tags=doc.find_all('p',{'class':\"f3 lh-condensed mb-0 mt-1 Link--primary\"})"
   ]
  },
  {
   "cell_type": "code",
   "execution_count": 169,
   "id": "0a2cbfb7",
   "metadata": {},
   "outputs": [
    {
     "data": {
      "text/plain": [
       "30"
      ]
     },
     "execution_count": 169,
     "metadata": {},
     "output_type": "execute_result"
    }
   ],
   "source": [
    "len(topic_title_tags)"
   ]
  },
  {
   "cell_type": "code",
   "execution_count": 170,
   "id": "659ff794",
   "metadata": {},
   "outputs": [
    {
     "data": {
      "text/plain": [
       "[<p class=\"f3 lh-condensed mb-0 mt-1 Link--primary\">3D</p>,\n",
       " <p class=\"f3 lh-condensed mb-0 mt-1 Link--primary\">Ajax</p>,\n",
       " <p class=\"f3 lh-condensed mb-0 mt-1 Link--primary\">Algorithm</p>,\n",
       " <p class=\"f3 lh-condensed mb-0 mt-1 Link--primary\">Amp</p>,\n",
       " <p class=\"f3 lh-condensed mb-0 mt-1 Link--primary\">Android</p>]"
      ]
     },
     "execution_count": 170,
     "metadata": {},
     "output_type": "execute_result"
    }
   ],
   "source": [
    "topic_title_tags[:5]"
   ]
  },
  {
   "cell_type": "code",
   "execution_count": 171,
   "id": "e0c0d12f",
   "metadata": {},
   "outputs": [],
   "source": [
    "topic_desc_tags=doc.find_all('p',{'class':'f5 color-fg-muted mb-0 mt-1'})"
   ]
  },
  {
   "cell_type": "code",
   "execution_count": 172,
   "id": "aa3459b6",
   "metadata": {},
   "outputs": [
    {
     "data": {
      "text/plain": [
       "[<p class=\"f5 color-fg-muted mb-0 mt-1\">\n",
       "           3D refers to the use of three-dimensional graphics, modeling, and animation in various industries.\n",
       "         </p>,\n",
       " <p class=\"f5 color-fg-muted mb-0 mt-1\">\n",
       "           Ajax is a technique for creating interactive web applications.\n",
       "         </p>,\n",
       " <p class=\"f5 color-fg-muted mb-0 mt-1\">\n",
       "           Algorithms are self-contained sequences that carry out a variety of tasks.\n",
       "         </p>,\n",
       " <p class=\"f5 color-fg-muted mb-0 mt-1\">\n",
       "           Amp is a non-blocking concurrency library for PHP.\n",
       "         </p>,\n",
       " <p class=\"f5 color-fg-muted mb-0 mt-1\">\n",
       "           Android is an operating system built by Google designed for mobile devices.\n",
       "         </p>]"
      ]
     },
     "execution_count": 172,
     "metadata": {},
     "output_type": "execute_result"
    }
   ],
   "source": [
    "topic_desc_tags[:5]"
   ]
  },
  {
   "cell_type": "code",
   "execution_count": 173,
   "id": "36846279",
   "metadata": {},
   "outputs": [],
   "source": [
    "topic_desc_tag0 = topic_title_tags[0]"
   ]
  },
  {
   "cell_type": "code",
   "execution_count": 174,
   "id": "1d5c598a",
   "metadata": {},
   "outputs": [
    {
     "data": {
      "text/plain": [
       "<div class=\"py-4 border-bottom d-flex flex-justify-between\">\n",
       "<a class=\"no-underline flex-grow-0\" href=\"/topics/3d\">\n",
       "<div class=\"color-bg-accent f4 color-fg-muted text-bold rounded mr-3 flex-shrink-0 text-center\" style=\"width:64px; height:64px; line-height:64px;\">\n",
       "            #\n",
       "          </div>\n",
       "</a>\n",
       "<a class=\"no-underline flex-1 d-flex flex-column\" href=\"/topics/3d\">\n",
       "<p class=\"f3 lh-condensed mb-0 mt-1 Link--primary\">3D</p>\n",
       "<p class=\"f5 color-fg-muted mb-0 mt-1\">\n",
       "          3D refers to the use of three-dimensional graphics, modeling, and animation in various industries.\n",
       "        </p>\n",
       "</a>\n",
       "<div class=\"flex-grow-0\">\n",
       "<div class=\"d-block\" data-view-component=\"true\">\n",
       "<a aria-label=\"You must be signed in to star a repository\" class=\"tooltipped tooltipped-s btn-sm btn\" data-hydro-click='{\"event_type\":\"authentication.click\",\"payload\":{\"location_in_page\":\"star button\",\"repository_id\":null,\"auth_type\":\"LOG_IN\",\"originating_url\":\"https://github.com/topics\",\"user_id\":null}}' data-hydro-click-hmac=\"5d696759683aa72e09fbdb14a69b26ab1c672e6d107e4ae922a0926f4476f50a\" data-view-component=\"true\" href=\"/login?return_to=%2Ftopic.3d\" rel=\"nofollow\"> <svg aria-hidden=\"true\" class=\"octicon octicon-star v-align-text-bottom d-inline-block mr-2\" data-view-component=\"true\" height=\"16\" version=\"1.1\" viewbox=\"0 0 16 16\" width=\"16\">\n",
       "<path d=\"M8 .25a.75.75 0 0 1 .673.418l1.882 3.815 4.21.612a.75.75 0 0 1 .416 1.279l-3.046 2.97.719 4.192a.751.751 0 0 1-1.088.791L8 12.347l-3.766 1.98a.75.75 0 0 1-1.088-.79l.72-4.194L.818 6.374a.75.75 0 0 1 .416-1.28l4.21-.611L7.327.668A.75.75 0 0 1 8 .25Zm0 2.445L6.615 5.5a.75.75 0 0 1-.564.41l-3.097.45 2.24 2.184a.75.75 0 0 1 .216.664l-.528 3.084 2.769-1.456a.75.75 0 0 1 .698 0l2.77 1.456-.53-3.084a.75.75 0 0 1 .216-.664l2.24-2.183-3.096-.45a.75.75 0 0 1-.564-.41L8 2.694Z\"></path>\n",
       "</svg><span class=\"d-inline\" data-view-component=\"true\">\n",
       "          Star\n",
       "</span>\n",
       "</a></div>\n",
       "</div>\n",
       "</div>"
      ]
     },
     "execution_count": 174,
     "metadata": {},
     "output_type": "execute_result"
    }
   ],
   "source": [
    "topic_desc_tag0.parent.parent"
   ]
  },
  {
   "cell_type": "code",
   "execution_count": 175,
   "id": "758a7dc5",
   "metadata": {},
   "outputs": [],
   "source": [
    "topic_link_tags=doc.find_all('a',{'class':'no-underline flex-1 d-flex flex-column'})"
   ]
  },
  {
   "cell_type": "code",
   "execution_count": 176,
   "id": "213cb4a0",
   "metadata": {},
   "outputs": [
    {
     "data": {
      "text/plain": [
       "30"
      ]
     },
     "execution_count": 176,
     "metadata": {},
     "output_type": "execute_result"
    }
   ],
   "source": [
    "len(topic_link_tags)"
   ]
  },
  {
   "cell_type": "code",
   "execution_count": 177,
   "id": "dfdfbceb",
   "metadata": {},
   "outputs": [
    {
     "data": {
      "text/plain": [
       "'https://github.com/topics/3d'"
      ]
     },
     "execution_count": 177,
     "metadata": {},
     "output_type": "execute_result"
    }
   ],
   "source": [
    "topic0_url=\"https://github.com\"+topic_link_tags[0]['href']\n",
    "topic0_url"
   ]
  },
  {
   "cell_type": "code",
   "execution_count": null,
   "id": "d8d193f7",
   "metadata": {},
   "outputs": [],
   "source": []
  },
  {
   "cell_type": "code",
   "execution_count": 178,
   "id": "ca8af090",
   "metadata": {},
   "outputs": [
    {
     "name": "stdout",
     "output_type": "stream",
     "text": [
      "['3D', 'Ajax', 'Algorithm', 'Amp', 'Android', 'Angular', 'Ansible', 'API', 'Arduino', 'ASP.NET', 'Atom', 'Awesome Lists', 'Amazon Web Services', 'Azure', 'Babel', 'Bash', 'Bitcoin', 'Bootstrap', 'Bot', 'C', 'Chrome', 'Chrome extension', 'Command line interface', 'Clojure', 'Code quality', 'Code review', 'Compiler', 'Continuous integration', 'COVID-19', 'C++']\n"
     ]
    }
   ],
   "source": [
    "topic_titles=[]\n",
    "\n",
    "for tag in topic_title_tags:\n",
    "    topic_titles.append(tag.text)\n",
    "\n",
    "print(topic_titles)"
   ]
  },
  {
   "cell_type": "code",
   "execution_count": 179,
   "id": "7127a958",
   "metadata": {},
   "outputs": [
    {
     "name": "stdout",
     "output_type": "stream",
     "text": [
      "['3D refers to the use of three-dimensional graphics, modeling, and animation in various industries.', 'Ajax is a technique for creating interactive web applications.', 'Algorithms are self-contained sequences that carry out a variety of tasks.', 'Amp is a non-blocking concurrency library for PHP.', 'Android is an operating system built by Google designed for mobile devices.', 'Angular is an open source web application platform.', 'Ansible is a simple and powerful automation engine.', 'An API (Application Programming Interface) is a collection of protocols and subroutines for building software.', 'Arduino is an open source platform for building electronic devices.', 'ASP.NET is a web framework for building modern web apps and services.', 'Atom is a open source text editor built with web technologies.', 'An awesome list is a list of awesome things curated by the community.', 'Amazon Web Services provides on-demand cloud computing platforms on a subscription basis.', 'Azure is a cloud computing service created by Microsoft.', 'Babel is a compiler for writing next generation JavaScript, today.', 'Bash is a shell and command language interpreter for the GNU operating system.', 'Bitcoin is a cryptocurrency developed by Satoshi Nakamoto.', 'Bootstrap is an HTML, CSS, and JavaScript framework.', 'A bot is an application that runs automated tasks over the Internet.', 'C is a general purpose programming language that first appeared in 1972.', 'Chrome is a web browser from the tech company Google.', 'Chrome extensions enable users to customize the Chrome browsing experience.', 'A CLI, or command-line interface, is a console that helps users issue commands to a program.', 'Clojure is a dynamic, general-purpose programming language.', 'Automate your code review with style, quality, security, and test‑coverage checks when you need them.', 'Ensure your code meets quality standards and ship with confidence.', 'Compilers are software that translate higher-level programming languages to lower-level languages (e.g. machine code).', 'Automatically build and test your code as you push it upstream, preventing bugs from being deployed to production.', 'The coronavirus disease 2019 (COVID-19) is an infectious disease caused by SARS-CoV-2.', 'C++ is a general purpose and object-oriented programming language.']\n"
     ]
    }
   ],
   "source": [
    "topic_descriptions=[]\n",
    "\n",
    "for tag in topic_desc_tags:\n",
    "    topic_descriptions.append(tag.text.strip())\n",
    "    \n",
    "print(topic_descriptions)"
   ]
  },
  {
   "cell_type": "code",
   "execution_count": 180,
   "id": "3aaf635b",
   "metadata": {},
   "outputs": [
    {
     "data": {
      "text/plain": [
       "['https://github.com/topics/3d',\n",
       " 'https://github.com/topics/ajax',\n",
       " 'https://github.com/topics/algorithm',\n",
       " 'https://github.com/topics/amphp',\n",
       " 'https://github.com/topics/android',\n",
       " 'https://github.com/topics/angular',\n",
       " 'https://github.com/topics/ansible',\n",
       " 'https://github.com/topics/api',\n",
       " 'https://github.com/topics/arduino',\n",
       " 'https://github.com/topics/aspnet',\n",
       " 'https://github.com/topics/atom',\n",
       " 'https://github.com/topics/awesome',\n",
       " 'https://github.com/topics/aws',\n",
       " 'https://github.com/topics/azure',\n",
       " 'https://github.com/topics/babel',\n",
       " 'https://github.com/topics/bash',\n",
       " 'https://github.com/topics/bitcoin',\n",
       " 'https://github.com/topics/bootstrap',\n",
       " 'https://github.com/topics/bot',\n",
       " 'https://github.com/topics/c',\n",
       " 'https://github.com/topics/chrome',\n",
       " 'https://github.com/topics/chrome-extension',\n",
       " 'https://github.com/topics/cli',\n",
       " 'https://github.com/topics/clojure',\n",
       " 'https://github.com/topics/code-quality',\n",
       " 'https://github.com/topics/code-review',\n",
       " 'https://github.com/topics/compiler',\n",
       " 'https://github.com/topics/continuous-integration',\n",
       " 'https://github.com/topics/covid-19',\n",
       " 'https://github.com/topics/cpp']"
      ]
     },
     "execution_count": 180,
     "metadata": {},
     "output_type": "execute_result"
    }
   ],
   "source": [
    "topic_URLs=[]\n",
    "base_url=\"https://github.com\"\n",
    "for tag in topic_link_tags:\n",
    "    topic_URLs.append(base_url+tag['href'])\n",
    "    \n",
    "topic_URLs"
   ]
  },
  {
   "cell_type": "code",
   "execution_count": 181,
   "id": "d43679c8",
   "metadata": {},
   "outputs": [],
   "source": [
    "import pandas as pd"
   ]
  },
  {
   "cell_type": "code",
   "execution_count": 182,
   "id": "a6820fc0",
   "metadata": {},
   "outputs": [
    {
     "data": {
      "text/html": [
       "<div>\n",
       "<style scoped>\n",
       "    .dataframe tbody tr th:only-of-type {\n",
       "        vertical-align: middle;\n",
       "    }\n",
       "\n",
       "    .dataframe tbody tr th {\n",
       "        vertical-align: top;\n",
       "    }\n",
       "\n",
       "    .dataframe thead th {\n",
       "        text-align: right;\n",
       "    }\n",
       "</style>\n",
       "<table border=\"1\" class=\"dataframe\">\n",
       "  <thead>\n",
       "    <tr style=\"text-align: right;\">\n",
       "      <th></th>\n",
       "      <th>title</th>\n",
       "      <th>description</th>\n",
       "      <th>url</th>\n",
       "    </tr>\n",
       "  </thead>\n",
       "  <tbody>\n",
       "    <tr>\n",
       "      <th>0</th>\n",
       "      <td>3D</td>\n",
       "      <td>3D refers to the use of three-dimensional grap...</td>\n",
       "      <td>https://github.com/topics/3d</td>\n",
       "    </tr>\n",
       "    <tr>\n",
       "      <th>1</th>\n",
       "      <td>Ajax</td>\n",
       "      <td>Ajax is a technique for creating interactive w...</td>\n",
       "      <td>https://github.com/topics/ajax</td>\n",
       "    </tr>\n",
       "    <tr>\n",
       "      <th>2</th>\n",
       "      <td>Algorithm</td>\n",
       "      <td>Algorithms are self-contained sequences that c...</td>\n",
       "      <td>https://github.com/topics/algorithm</td>\n",
       "    </tr>\n",
       "    <tr>\n",
       "      <th>3</th>\n",
       "      <td>Amp</td>\n",
       "      <td>Amp is a non-blocking concurrency library for ...</td>\n",
       "      <td>https://github.com/topics/amphp</td>\n",
       "    </tr>\n",
       "    <tr>\n",
       "      <th>4</th>\n",
       "      <td>Android</td>\n",
       "      <td>Android is an operating system built by Google...</td>\n",
       "      <td>https://github.com/topics/android</td>\n",
       "    </tr>\n",
       "    <tr>\n",
       "      <th>5</th>\n",
       "      <td>Angular</td>\n",
       "      <td>Angular is an open source web application plat...</td>\n",
       "      <td>https://github.com/topics/angular</td>\n",
       "    </tr>\n",
       "    <tr>\n",
       "      <th>6</th>\n",
       "      <td>Ansible</td>\n",
       "      <td>Ansible is a simple and powerful automation en...</td>\n",
       "      <td>https://github.com/topics/ansible</td>\n",
       "    </tr>\n",
       "    <tr>\n",
       "      <th>7</th>\n",
       "      <td>API</td>\n",
       "      <td>An API (Application Programming Interface) is ...</td>\n",
       "      <td>https://github.com/topics/api</td>\n",
       "    </tr>\n",
       "    <tr>\n",
       "      <th>8</th>\n",
       "      <td>Arduino</td>\n",
       "      <td>Arduino is an open source platform for buildin...</td>\n",
       "      <td>https://github.com/topics/arduino</td>\n",
       "    </tr>\n",
       "    <tr>\n",
       "      <th>9</th>\n",
       "      <td>ASP.NET</td>\n",
       "      <td>ASP.NET is a web framework for building modern...</td>\n",
       "      <td>https://github.com/topics/aspnet</td>\n",
       "    </tr>\n",
       "    <tr>\n",
       "      <th>10</th>\n",
       "      <td>Atom</td>\n",
       "      <td>Atom is a open source text editor built with w...</td>\n",
       "      <td>https://github.com/topics/atom</td>\n",
       "    </tr>\n",
       "    <tr>\n",
       "      <th>11</th>\n",
       "      <td>Awesome Lists</td>\n",
       "      <td>An awesome list is a list of awesome things cu...</td>\n",
       "      <td>https://github.com/topics/awesome</td>\n",
       "    </tr>\n",
       "    <tr>\n",
       "      <th>12</th>\n",
       "      <td>Amazon Web Services</td>\n",
       "      <td>Amazon Web Services provides on-demand cloud c...</td>\n",
       "      <td>https://github.com/topics/aws</td>\n",
       "    </tr>\n",
       "    <tr>\n",
       "      <th>13</th>\n",
       "      <td>Azure</td>\n",
       "      <td>Azure is a cloud computing service created by ...</td>\n",
       "      <td>https://github.com/topics/azure</td>\n",
       "    </tr>\n",
       "    <tr>\n",
       "      <th>14</th>\n",
       "      <td>Babel</td>\n",
       "      <td>Babel is a compiler for writing next generatio...</td>\n",
       "      <td>https://github.com/topics/babel</td>\n",
       "    </tr>\n",
       "    <tr>\n",
       "      <th>15</th>\n",
       "      <td>Bash</td>\n",
       "      <td>Bash is a shell and command language interpret...</td>\n",
       "      <td>https://github.com/topics/bash</td>\n",
       "    </tr>\n",
       "    <tr>\n",
       "      <th>16</th>\n",
       "      <td>Bitcoin</td>\n",
       "      <td>Bitcoin is a cryptocurrency developed by Satos...</td>\n",
       "      <td>https://github.com/topics/bitcoin</td>\n",
       "    </tr>\n",
       "    <tr>\n",
       "      <th>17</th>\n",
       "      <td>Bootstrap</td>\n",
       "      <td>Bootstrap is an HTML, CSS, and JavaScript fram...</td>\n",
       "      <td>https://github.com/topics/bootstrap</td>\n",
       "    </tr>\n",
       "    <tr>\n",
       "      <th>18</th>\n",
       "      <td>Bot</td>\n",
       "      <td>A bot is an application that runs automated ta...</td>\n",
       "      <td>https://github.com/topics/bot</td>\n",
       "    </tr>\n",
       "    <tr>\n",
       "      <th>19</th>\n",
       "      <td>C</td>\n",
       "      <td>C is a general purpose programming language th...</td>\n",
       "      <td>https://github.com/topics/c</td>\n",
       "    </tr>\n",
       "    <tr>\n",
       "      <th>20</th>\n",
       "      <td>Chrome</td>\n",
       "      <td>Chrome is a web browser from the tech company ...</td>\n",
       "      <td>https://github.com/topics/chrome</td>\n",
       "    </tr>\n",
       "    <tr>\n",
       "      <th>21</th>\n",
       "      <td>Chrome extension</td>\n",
       "      <td>Chrome extensions enable users to customize th...</td>\n",
       "      <td>https://github.com/topics/chrome-extension</td>\n",
       "    </tr>\n",
       "    <tr>\n",
       "      <th>22</th>\n",
       "      <td>Command line interface</td>\n",
       "      <td>A CLI, or command-line interface, is a console...</td>\n",
       "      <td>https://github.com/topics/cli</td>\n",
       "    </tr>\n",
       "    <tr>\n",
       "      <th>23</th>\n",
       "      <td>Clojure</td>\n",
       "      <td>Clojure is a dynamic, general-purpose programm...</td>\n",
       "      <td>https://github.com/topics/clojure</td>\n",
       "    </tr>\n",
       "    <tr>\n",
       "      <th>24</th>\n",
       "      <td>Code quality</td>\n",
       "      <td>Automate your code review with style, quality,...</td>\n",
       "      <td>https://github.com/topics/code-quality</td>\n",
       "    </tr>\n",
       "    <tr>\n",
       "      <th>25</th>\n",
       "      <td>Code review</td>\n",
       "      <td>Ensure your code meets quality standards and s...</td>\n",
       "      <td>https://github.com/topics/code-review</td>\n",
       "    </tr>\n",
       "    <tr>\n",
       "      <th>26</th>\n",
       "      <td>Compiler</td>\n",
       "      <td>Compilers are software that translate higher-l...</td>\n",
       "      <td>https://github.com/topics/compiler</td>\n",
       "    </tr>\n",
       "    <tr>\n",
       "      <th>27</th>\n",
       "      <td>Continuous integration</td>\n",
       "      <td>Automatically build and test your code as you ...</td>\n",
       "      <td>https://github.com/topics/continuous-integration</td>\n",
       "    </tr>\n",
       "    <tr>\n",
       "      <th>28</th>\n",
       "      <td>COVID-19</td>\n",
       "      <td>The coronavirus disease 2019 (COVID-19) is an ...</td>\n",
       "      <td>https://github.com/topics/covid-19</td>\n",
       "    </tr>\n",
       "    <tr>\n",
       "      <th>29</th>\n",
       "      <td>C++</td>\n",
       "      <td>C++ is a general purpose and object-oriented p...</td>\n",
       "      <td>https://github.com/topics/cpp</td>\n",
       "    </tr>\n",
       "  </tbody>\n",
       "</table>\n",
       "</div>"
      ],
      "text/plain": [
       "                     title                                        description  \\\n",
       "0                       3D  3D refers to the use of three-dimensional grap...   \n",
       "1                     Ajax  Ajax is a technique for creating interactive w...   \n",
       "2                Algorithm  Algorithms are self-contained sequences that c...   \n",
       "3                      Amp  Amp is a non-blocking concurrency library for ...   \n",
       "4                  Android  Android is an operating system built by Google...   \n",
       "5                  Angular  Angular is an open source web application plat...   \n",
       "6                  Ansible  Ansible is a simple and powerful automation en...   \n",
       "7                      API  An API (Application Programming Interface) is ...   \n",
       "8                  Arduino  Arduino is an open source platform for buildin...   \n",
       "9                  ASP.NET  ASP.NET is a web framework for building modern...   \n",
       "10                    Atom  Atom is a open source text editor built with w...   \n",
       "11           Awesome Lists  An awesome list is a list of awesome things cu...   \n",
       "12     Amazon Web Services  Amazon Web Services provides on-demand cloud c...   \n",
       "13                   Azure  Azure is a cloud computing service created by ...   \n",
       "14                   Babel  Babel is a compiler for writing next generatio...   \n",
       "15                    Bash  Bash is a shell and command language interpret...   \n",
       "16                 Bitcoin  Bitcoin is a cryptocurrency developed by Satos...   \n",
       "17               Bootstrap  Bootstrap is an HTML, CSS, and JavaScript fram...   \n",
       "18                     Bot  A bot is an application that runs automated ta...   \n",
       "19                       C  C is a general purpose programming language th...   \n",
       "20                  Chrome  Chrome is a web browser from the tech company ...   \n",
       "21        Chrome extension  Chrome extensions enable users to customize th...   \n",
       "22  Command line interface  A CLI, or command-line interface, is a console...   \n",
       "23                 Clojure  Clojure is a dynamic, general-purpose programm...   \n",
       "24            Code quality  Automate your code review with style, quality,...   \n",
       "25             Code review  Ensure your code meets quality standards and s...   \n",
       "26                Compiler  Compilers are software that translate higher-l...   \n",
       "27  Continuous integration  Automatically build and test your code as you ...   \n",
       "28                COVID-19  The coronavirus disease 2019 (COVID-19) is an ...   \n",
       "29                     C++  C++ is a general purpose and object-oriented p...   \n",
       "\n",
       "                                                 url  \n",
       "0                       https://github.com/topics/3d  \n",
       "1                     https://github.com/topics/ajax  \n",
       "2                https://github.com/topics/algorithm  \n",
       "3                    https://github.com/topics/amphp  \n",
       "4                  https://github.com/topics/android  \n",
       "5                  https://github.com/topics/angular  \n",
       "6                  https://github.com/topics/ansible  \n",
       "7                      https://github.com/topics/api  \n",
       "8                  https://github.com/topics/arduino  \n",
       "9                   https://github.com/topics/aspnet  \n",
       "10                    https://github.com/topics/atom  \n",
       "11                 https://github.com/topics/awesome  \n",
       "12                     https://github.com/topics/aws  \n",
       "13                   https://github.com/topics/azure  \n",
       "14                   https://github.com/topics/babel  \n",
       "15                    https://github.com/topics/bash  \n",
       "16                 https://github.com/topics/bitcoin  \n",
       "17               https://github.com/topics/bootstrap  \n",
       "18                     https://github.com/topics/bot  \n",
       "19                       https://github.com/topics/c  \n",
       "20                  https://github.com/topics/chrome  \n",
       "21        https://github.com/topics/chrome-extension  \n",
       "22                     https://github.com/topics/cli  \n",
       "23                 https://github.com/topics/clojure  \n",
       "24            https://github.com/topics/code-quality  \n",
       "25             https://github.com/topics/code-review  \n",
       "26                https://github.com/topics/compiler  \n",
       "27  https://github.com/topics/continuous-integration  \n",
       "28                https://github.com/topics/covid-19  \n",
       "29                     https://github.com/topics/cpp  "
      ]
     },
     "execution_count": 182,
     "metadata": {},
     "output_type": "execute_result"
    }
   ],
   "source": [
    "topics_dict={'title':topic_titles,\n",
    "             'description':topic_descriptions,\n",
    "            'url':topic_URLs}\n",
    "topics_df= pd.DataFrame(topics_dict)\n",
    "topics_df"
   ]
  },
  {
   "cell_type": "markdown",
   "id": "a9123606",
   "metadata": {},
   "source": [
    "## Create CSV file(s) with the extracted information"
   ]
  },
  {
   "cell_type": "markdown",
   "id": "c5491a5b",
   "metadata": {},
   "source": [
    "- Create functions for the end-to-end process of downloading, parsing, and saving CSVs.\n",
    "- Execute the function with different inputs to create a dataset of CSV files.\n",
    "- Verify the information in the CSV files by reading them back using Pandas.\n"
   ]
  },
  {
   "cell_type": "code",
   "execution_count": 183,
   "id": "ece21757",
   "metadata": {},
   "outputs": [],
   "source": [
    "topics_df.to_csv('topics.csv',index=None)"
   ]
  },
  {
   "cell_type": "markdown",
   "id": "1f98c4a8",
   "metadata": {},
   "source": [
    "## Getting information out of a topic page"
   ]
  },
  {
   "cell_type": "code",
   "execution_count": 184,
   "id": "4072eb8f",
   "metadata": {},
   "outputs": [],
   "source": [
    "topic_page_url = topic_URLs[0]"
   ]
  },
  {
   "cell_type": "code",
   "execution_count": 185,
   "id": "923575ac",
   "metadata": {},
   "outputs": [
    {
     "data": {
      "text/plain": [
       "'https://github.com/topics/3d'"
      ]
     },
     "execution_count": 185,
     "metadata": {},
     "output_type": "execute_result"
    }
   ],
   "source": [
    "topic_page_url\n"
   ]
  },
  {
   "cell_type": "code",
   "execution_count": 186,
   "id": "c523f4cd",
   "metadata": {},
   "outputs": [],
   "source": [
    "response = requests.get(topic_page_url)"
   ]
  },
  {
   "cell_type": "code",
   "execution_count": 187,
   "id": "04d3da59",
   "metadata": {},
   "outputs": [
    {
     "data": {
      "text/plain": [
       "200"
      ]
     },
     "execution_count": 187,
     "metadata": {},
     "output_type": "execute_result"
    }
   ],
   "source": [
    "response.status_code"
   ]
  },
  {
   "cell_type": "code",
   "execution_count": 188,
   "id": "fd6a8319",
   "metadata": {},
   "outputs": [
    {
     "data": {
      "text/plain": [
       "476394"
      ]
     },
     "execution_count": 188,
     "metadata": {},
     "output_type": "execute_result"
    }
   ],
   "source": [
    "len(response.text)"
   ]
  },
  {
   "cell_type": "code",
   "execution_count": 189,
   "id": "98ced2f7",
   "metadata": {},
   "outputs": [],
   "source": [
    "topic_doc=BeautifulSoup(response.text,'html.parser')"
   ]
  },
  {
   "cell_type": "code",
   "execution_count": 190,
   "id": "f61ac21f",
   "metadata": {},
   "outputs": [],
   "source": [
    "repo_tags = topic_doc.find_all('h3',{'class':\"f3 color-fg-muted text-normal lh-condensed\"})"
   ]
  },
  {
   "cell_type": "code",
   "execution_count": 191,
   "id": "eedebdd0",
   "metadata": {},
   "outputs": [
    {
     "data": {
      "text/plain": [
       "20"
      ]
     },
     "execution_count": 191,
     "metadata": {},
     "output_type": "execute_result"
    }
   ],
   "source": [
    "len(repo_tags)"
   ]
  },
  {
   "cell_type": "code",
   "execution_count": 192,
   "id": "32e0b50f",
   "metadata": {},
   "outputs": [],
   "source": [
    "a_tags=repo_tags[0].find_all('a')"
   ]
  },
  {
   "cell_type": "code",
   "execution_count": 193,
   "id": "fbf37885",
   "metadata": {},
   "outputs": [
    {
     "data": {
      "text/plain": [
       "'mrdoob'"
      ]
     },
     "execution_count": 193,
     "metadata": {},
     "output_type": "execute_result"
    }
   ],
   "source": [
    "a_tags[0].text.strip()\n"
   ]
  },
  {
   "cell_type": "code",
   "execution_count": 194,
   "id": "93d8f52d",
   "metadata": {},
   "outputs": [
    {
     "data": {
      "text/plain": [
       "'three.js'"
      ]
     },
     "execution_count": 194,
     "metadata": {},
     "output_type": "execute_result"
    }
   ],
   "source": [
    "a_tags[1].text.strip()"
   ]
  },
  {
   "cell_type": "code",
   "execution_count": 195,
   "id": "e0748bd1",
   "metadata": {},
   "outputs": [
    {
     "name": "stdout",
     "output_type": "stream",
     "text": [
      "https://github.com/mrdoob/three.js\n"
     ]
    }
   ],
   "source": [
    "repo_url = base_url+ a_tags[1]['href']\n",
    "print(repo_url)"
   ]
  },
  {
   "cell_type": "code",
   "execution_count": 196,
   "id": "f238f4c5",
   "metadata": {},
   "outputs": [],
   "source": [
    "repo_stars=topic_doc.find_all('span',{'class':'Counter js-social-count'})"
   ]
  },
  {
   "cell_type": "code",
   "execution_count": 197,
   "id": "c490c956",
   "metadata": {},
   "outputs": [
    {
     "data": {
      "text/plain": [
       "'93.7k'"
      ]
     },
     "execution_count": 197,
     "metadata": {},
     "output_type": "execute_result"
    }
   ],
   "source": [
    "repo_stars[0].text"
   ]
  },
  {
   "cell_type": "code",
   "execution_count": 198,
   "id": "331608fd",
   "metadata": {},
   "outputs": [],
   "source": [
    "def parse_star_count(repo_stars):\n",
    "    repo_stars=repo_stars.strip()\n",
    "    if repo_stars[-1]=='k':\n",
    "        return int(float(repo_stars[:-1])*1000)\n",
    "    return repo_stars"
   ]
  },
  {
   "cell_type": "code",
   "execution_count": 199,
   "id": "aa1cfd88",
   "metadata": {},
   "outputs": [
    {
     "data": {
      "text/plain": [
       "93700"
      ]
     },
     "execution_count": 199,
     "metadata": {},
     "output_type": "execute_result"
    }
   ],
   "source": [
    "parse_star_count(repo_stars[0].text)"
   ]
  },
  {
   "cell_type": "code",
   "execution_count": 200,
   "id": "491e408d",
   "metadata": {},
   "outputs": [],
   "source": [
    "import os\n",
    "def get_topic_page(topic_url):\n",
    "    #Download the page\n",
    "    response = requests.get(topic_url)\n",
    "    #check response status\n",
    "    if(response.status_code!=200):\n",
    "        raise Exception('Failed to load page {}'.format(topic_url))\n",
    "    #parse using beautiful soup\n",
    "    topic_doc=BeautifulSoup(response.text,'html.parser')\n",
    "    return topic_doc\n",
    "\n",
    "\n",
    "def get_repo_info(h3_tag,star_tag):\n",
    "    #returns all the information about the repository\n",
    "    a_tags=h3_tag.find_all('a')\n",
    "    username=a_tags[0].text.strip()\n",
    "    repo_name=a_tags[1].text.strip()\n",
    "    repo_url= base_url+ a_tags[1]['href']\n",
    "    repo_stars=parse_star_count(star_tag.text)\n",
    "    return  username, repo_name, repo_stars, repo_url\n",
    "\n",
    "def get_topic_repos(topic_doc):\n",
    "    repo_tags = topic_doc.find_all('h3',{'class':\"f3 color-fg-muted text-normal lh-condensed\"})\n",
    "    repo_stars=topic_doc.find_all('span',{'class':'Counter js-social-count'})\n",
    "\n",
    "    topic_repo_dict={\n",
    "    'username':[],\n",
    "    'repo_name':[],\n",
    "    'stars':[],\n",
    "    'repo_url':[]\n",
    "     }\n",
    "    \n",
    "    #get info\n",
    "    for i in range(len(repo_tags)):\n",
    "       repo_info=get_repo_info(repo_tags[i],repo_stars[i])\n",
    "       topic_repo_dict['username'].append(repo_info[0])\n",
    "       topic_repo_dict['repo_name'].append(repo_info[1])\n",
    "       topic_repo_dict['stars'].append(repo_info[2])\n",
    "       topic_repo_dict['repo_url'].append(repo_info[3])\n",
    "    \n",
    "    return pd.DataFrame(topic_repo_dict)\n",
    "\n",
    "def scrape_topic(topic_url,topic_name):\n",
    "    fname=topic_name + '.csv' \n",
    "    if os.path.exists(fname):\n",
    "        print(\"The file {} already exists. Skipping...\".format(fname))\n",
    "        return\n",
    "    topic_df=get_topic_repos(get_topic_page(topic_url))\n",
    "    topic_df.to_csv(fname, index=None)"
   ]
  },
  {
   "cell_type": "code",
   "execution_count": 201,
   "id": "30c4d307",
   "metadata": {},
   "outputs": [],
   "source": [
    "topic4_doc=get_topic_page(topic_URLs[4])\n",
    "topic4_repos=get_topic_repos(topic4_doc)"
   ]
  },
  {
   "cell_type": "code",
   "execution_count": 202,
   "id": "0a4732d6",
   "metadata": {},
   "outputs": [],
   "source": [
    "topic_repos_df=pd.DataFrame(topic_repo_dict)"
   ]
  },
  {
   "cell_type": "code",
   "execution_count": 203,
   "id": "c8a9d344",
   "metadata": {},
   "outputs": [
    {
     "data": {
      "text/html": [
       "<div>\n",
       "<style scoped>\n",
       "    .dataframe tbody tr th:only-of-type {\n",
       "        vertical-align: middle;\n",
       "    }\n",
       "\n",
       "    .dataframe tbody tr th {\n",
       "        vertical-align: top;\n",
       "    }\n",
       "\n",
       "    .dataframe thead th {\n",
       "        text-align: right;\n",
       "    }\n",
       "</style>\n",
       "<table border=\"1\" class=\"dataframe\">\n",
       "  <thead>\n",
       "    <tr style=\"text-align: right;\">\n",
       "      <th></th>\n",
       "      <th>username</th>\n",
       "      <th>repo_name</th>\n",
       "      <th>stars</th>\n",
       "      <th>repo_url</th>\n",
       "    </tr>\n",
       "  </thead>\n",
       "  <tbody>\n",
       "    <tr>\n",
       "      <th>0</th>\n",
       "      <td>flutter</td>\n",
       "      <td>flutter</td>\n",
       "      <td>156000</td>\n",
       "      <td>https://github.com/flutter/flutter</td>\n",
       "    </tr>\n",
       "    <tr>\n",
       "      <th>1</th>\n",
       "      <td>facebook</td>\n",
       "      <td>react-native</td>\n",
       "      <td>111000</td>\n",
       "      <td>https://github.com/facebook/react-native</td>\n",
       "    </tr>\n",
       "    <tr>\n",
       "      <th>2</th>\n",
       "      <td>justjavac</td>\n",
       "      <td>free-programming-books-zh_CN</td>\n",
       "      <td>104000</td>\n",
       "      <td>https://github.com/justjavac/free-programming-...</td>\n",
       "    </tr>\n",
       "    <tr>\n",
       "      <th>3</th>\n",
       "      <td>Genymobile</td>\n",
       "      <td>scrcpy</td>\n",
       "      <td>89000</td>\n",
       "      <td>https://github.com/Genymobile/scrcpy</td>\n",
       "    </tr>\n",
       "    <tr>\n",
       "      <th>4</th>\n",
       "      <td>Hack-with-Github</td>\n",
       "      <td>Awesome-Hacking</td>\n",
       "      <td>67800</td>\n",
       "      <td>https://github.com/Hack-with-Github/Awesome-Ha...</td>\n",
       "    </tr>\n",
       "    <tr>\n",
       "      <th>5</th>\n",
       "      <td>google</td>\n",
       "      <td>material-design-icons</td>\n",
       "      <td>48400</td>\n",
       "      <td>https://github.com/google/material-design-icons</td>\n",
       "    </tr>\n",
       "    <tr>\n",
       "      <th>6</th>\n",
       "      <td>Solido</td>\n",
       "      <td>awesome-flutter</td>\n",
       "      <td>47900</td>\n",
       "      <td>https://github.com/Solido/awesome-flutter</td>\n",
       "    </tr>\n",
       "    <tr>\n",
       "      <th>7</th>\n",
       "      <td>wasabeef</td>\n",
       "      <td>awesome-android-ui</td>\n",
       "      <td>47000</td>\n",
       "      <td>https://github.com/wasabeef/awesome-android-ui</td>\n",
       "    </tr>\n",
       "    <tr>\n",
       "      <th>8</th>\n",
       "      <td>square</td>\n",
       "      <td>okhttp</td>\n",
       "      <td>44300</td>\n",
       "      <td>https://github.com/square/okhttp</td>\n",
       "    </tr>\n",
       "    <tr>\n",
       "      <th>9</th>\n",
       "      <td>android</td>\n",
       "      <td>architecture-samples</td>\n",
       "      <td>43000</td>\n",
       "      <td>https://github.com/android/architecture-samples</td>\n",
       "    </tr>\n",
       "    <tr>\n",
       "      <th>10</th>\n",
       "      <td>square</td>\n",
       "      <td>retrofit</td>\n",
       "      <td>41900</td>\n",
       "      <td>https://github.com/square/retrofit</td>\n",
       "    </tr>\n",
       "    <tr>\n",
       "      <th>11</th>\n",
       "      <td>dcloudio</td>\n",
       "      <td>uni-app</td>\n",
       "      <td>38500</td>\n",
       "      <td>https://github.com/dcloudio/uni-app</td>\n",
       "    </tr>\n",
       "    <tr>\n",
       "      <th>12</th>\n",
       "      <td>laurent22</td>\n",
       "      <td>joplin</td>\n",
       "      <td>37900</td>\n",
       "      <td>https://github.com/laurent22/joplin</td>\n",
       "    </tr>\n",
       "    <tr>\n",
       "      <th>13</th>\n",
       "      <td>fastlane</td>\n",
       "      <td>fastlane</td>\n",
       "      <td>37400</td>\n",
       "      <td>https://github.com/fastlane/fastlane</td>\n",
       "    </tr>\n",
       "    <tr>\n",
       "      <th>14</th>\n",
       "      <td>PhilJay</td>\n",
       "      <td>MPAndroidChart</td>\n",
       "      <td>36700</td>\n",
       "      <td>https://github.com/PhilJay/MPAndroidChart</td>\n",
       "    </tr>\n",
       "    <tr>\n",
       "      <th>15</th>\n",
       "      <td>skylot</td>\n",
       "      <td>jadx</td>\n",
       "      <td>35600</td>\n",
       "      <td>https://github.com/skylot/jadx</td>\n",
       "    </tr>\n",
       "    <tr>\n",
       "      <th>16</th>\n",
       "      <td>airbnb</td>\n",
       "      <td>lottie-android</td>\n",
       "      <td>34100</td>\n",
       "      <td>https://github.com/airbnb/lottie-android</td>\n",
       "    </tr>\n",
       "    <tr>\n",
       "      <th>17</th>\n",
       "      <td>shadowsocks</td>\n",
       "      <td>shadowsocks-android</td>\n",
       "      <td>33900</td>\n",
       "      <td>https://github.com/shadowsocks/shadowsocks-and...</td>\n",
       "    </tr>\n",
       "    <tr>\n",
       "      <th>18</th>\n",
       "      <td>bumptech</td>\n",
       "      <td>glide</td>\n",
       "      <td>33800</td>\n",
       "      <td>https://github.com/bumptech/glide</td>\n",
       "    </tr>\n",
       "    <tr>\n",
       "      <th>19</th>\n",
       "      <td>xitu</td>\n",
       "      <td>gold-miner</td>\n",
       "      <td>32600</td>\n",
       "      <td>https://github.com/xitu/gold-miner</td>\n",
       "    </tr>\n",
       "  </tbody>\n",
       "</table>\n",
       "</div>"
      ],
      "text/plain": [
       "            username                     repo_name   stars  \\\n",
       "0            flutter                       flutter  156000   \n",
       "1           facebook                  react-native  111000   \n",
       "2          justjavac  free-programming-books-zh_CN  104000   \n",
       "3         Genymobile                        scrcpy   89000   \n",
       "4   Hack-with-Github               Awesome-Hacking   67800   \n",
       "5             google         material-design-icons   48400   \n",
       "6             Solido               awesome-flutter   47900   \n",
       "7           wasabeef            awesome-android-ui   47000   \n",
       "8             square                        okhttp   44300   \n",
       "9            android          architecture-samples   43000   \n",
       "10            square                      retrofit   41900   \n",
       "11          dcloudio                       uni-app   38500   \n",
       "12         laurent22                        joplin   37900   \n",
       "13          fastlane                      fastlane   37400   \n",
       "14           PhilJay                MPAndroidChart   36700   \n",
       "15            skylot                          jadx   35600   \n",
       "16            airbnb                lottie-android   34100   \n",
       "17       shadowsocks           shadowsocks-android   33900   \n",
       "18          bumptech                         glide   33800   \n",
       "19              xitu                    gold-miner   32600   \n",
       "\n",
       "                                             repo_url  \n",
       "0                  https://github.com/flutter/flutter  \n",
       "1            https://github.com/facebook/react-native  \n",
       "2   https://github.com/justjavac/free-programming-...  \n",
       "3                https://github.com/Genymobile/scrcpy  \n",
       "4   https://github.com/Hack-with-Github/Awesome-Ha...  \n",
       "5     https://github.com/google/material-design-icons  \n",
       "6           https://github.com/Solido/awesome-flutter  \n",
       "7      https://github.com/wasabeef/awesome-android-ui  \n",
       "8                    https://github.com/square/okhttp  \n",
       "9     https://github.com/android/architecture-samples  \n",
       "10                 https://github.com/square/retrofit  \n",
       "11                https://github.com/dcloudio/uni-app  \n",
       "12                https://github.com/laurent22/joplin  \n",
       "13               https://github.com/fastlane/fastlane  \n",
       "14          https://github.com/PhilJay/MPAndroidChart  \n",
       "15                     https://github.com/skylot/jadx  \n",
       "16           https://github.com/airbnb/lottie-android  \n",
       "17  https://github.com/shadowsocks/shadowsocks-and...  \n",
       "18                  https://github.com/bumptech/glide  \n",
       "19                 https://github.com/xitu/gold-miner  "
      ]
     },
     "execution_count": 203,
     "metadata": {},
     "output_type": "execute_result"
    }
   ],
   "source": [
    "topic4_repos"
   ]
  },
  {
   "cell_type": "code",
   "execution_count": 204,
   "id": "234c9bb5",
   "metadata": {},
   "outputs": [],
   "source": [
    "def get_topic_titles(doc):\n",
    "    topic_title_tags=doc.find_all('p',{'class':\"f3 lh-condensed mb-0 mt-1 Link--primary\"})\n",
    "    topic_titles=[]\n",
    "\n",
    "    for tag in topic_title_tags:\n",
    "        topic_titles.append(tag.text)\n",
    "    \n",
    "    return topic_titles\n",
    "\n",
    "def get_topic_desc(doc):\n",
    "    topic_desc_tags=doc.find_all('p',{'class':'f5 color-fg-muted mb-0 mt-1'})\n",
    "    topic_descriptions=[]\n",
    "\n",
    "    for tag in topic_desc_tags:\n",
    "        topic_descriptions.append(tag.text.strip())\n",
    "    \n",
    "    return topic_descriptions\n",
    "\n",
    "def get_topic_urls(doc):\n",
    "    topic_link_tags=doc.find_all('a',{'class':'no-underline flex-1 d-flex flex-column'})\n",
    "    topic_URLs=[]\n",
    "    base_url=\"https://github.com\"\n",
    "    for tag in topic_link_tags:\n",
    "        topic_URLs.append(base_url+tag['href'])\n",
    "        \n",
    "    return topic_URLs\n",
    "\n",
    "def scrape_topics():\n",
    "    topics_URL= 'https://github.com/topics'\n",
    "    response= requests.get(topics_URL)\n",
    "    if(response.status_code!=200):\n",
    "        raise Exception('Failed to load page {}'.format(topics_URL))\n",
    "    doc = BeautifulSoup(response.text,'html.parser')\n",
    "    topics_dict={'title':get_topic_titles(doc),\n",
    "             'description':get_topic_desc(doc),\n",
    "            'url':get_topic_urls(doc)}\n",
    "    return pd.DataFrame(topics_dict)\n",
    "\n",
    "    "
   ]
  },
  {
   "cell_type": "code",
   "execution_count": null,
   "id": "067289fa",
   "metadata": {},
   "outputs": [],
   "source": []
  },
  {
   "cell_type": "code",
   "execution_count": 205,
   "id": "8b2f41a7",
   "metadata": {},
   "outputs": [],
   "source": [
    "def scrape_topics_repo():\n",
    "    print('Scraping list of topics')\n",
    "    topics_df=scrape_topics()\n",
    "    for index,row in topics_df.iterrows():\n",
    "        print('Scraping topics repositories for \"{}\"'.format(row['title']))\n",
    "        scrape_topic(row['url'],row['title'])\n",
    "    \n",
    " "
   ]
  },
  {
   "cell_type": "code",
   "execution_count": 206,
   "id": "4b7d578f",
   "metadata": {},
   "outputs": [
    {
     "name": "stdout",
     "output_type": "stream",
     "text": [
      "Scraping list of topics\n",
      "Scraping topics repositories for \"3D\"\n",
      "The file 3D.csv already exists. Skipping...\n",
      "Scraping topics repositories for \"Ajax\"\n",
      "The file Ajax.csv already exists. Skipping...\n",
      "Scraping topics repositories for \"Algorithm\"\n",
      "The file Algorithm.csv already exists. Skipping...\n",
      "Scraping topics repositories for \"Amp\"\n",
      "The file Amp.csv already exists. Skipping...\n",
      "Scraping topics repositories for \"Android\"\n",
      "The file Android.csv already exists. Skipping...\n",
      "Scraping topics repositories for \"Angular\"\n",
      "The file Angular.csv already exists. Skipping...\n",
      "Scraping topics repositories for \"Ansible\"\n",
      "The file Ansible.csv already exists. Skipping...\n",
      "Scraping topics repositories for \"API\"\n",
      "The file API.csv already exists. Skipping...\n",
      "Scraping topics repositories for \"Arduino\"\n",
      "The file Arduino.csv already exists. Skipping...\n",
      "Scraping topics repositories for \"ASP.NET\"\n",
      "The file ASP.NET.csv already exists. Skipping...\n",
      "Scraping topics repositories for \"Atom\"\n",
      "The file Atom.csv already exists. Skipping...\n",
      "Scraping topics repositories for \"Awesome Lists\"\n",
      "The file Awesome Lists.csv already exists. Skipping...\n",
      "Scraping topics repositories for \"Amazon Web Services\"\n",
      "The file Amazon Web Services.csv already exists. Skipping...\n",
      "Scraping topics repositories for \"Azure\"\n",
      "The file Azure.csv already exists. Skipping...\n",
      "Scraping topics repositories for \"Babel\"\n",
      "The file Babel.csv already exists. Skipping...\n",
      "Scraping topics repositories for \"Bash\"\n",
      "The file Bash.csv already exists. Skipping...\n",
      "Scraping topics repositories for \"Bitcoin\"\n",
      "The file Bitcoin.csv already exists. Skipping...\n",
      "Scraping topics repositories for \"Bootstrap\"\n",
      "The file Bootstrap.csv already exists. Skipping...\n",
      "Scraping topics repositories for \"Bot\"\n",
      "The file Bot.csv already exists. Skipping...\n",
      "Scraping topics repositories for \"C\"\n",
      "The file C.csv already exists. Skipping...\n",
      "Scraping topics repositories for \"Chrome\"\n",
      "The file Chrome.csv already exists. Skipping...\n",
      "Scraping topics repositories for \"Chrome extension\"\n",
      "The file Chrome extension.csv already exists. Skipping...\n",
      "Scraping topics repositories for \"Command line interface\"\n",
      "The file Command line interface.csv already exists. Skipping...\n",
      "Scraping topics repositories for \"Clojure\"\n",
      "The file Clojure.csv already exists. Skipping...\n",
      "Scraping topics repositories for \"Code quality\"\n",
      "The file Code quality.csv already exists. Skipping...\n",
      "Scraping topics repositories for \"Code review\"\n",
      "The file Code review.csv already exists. Skipping...\n",
      "Scraping topics repositories for \"Compiler\"\n",
      "The file Compiler.csv already exists. Skipping...\n",
      "Scraping topics repositories for \"Continuous integration\"\n",
      "The file Continuous integration.csv already exists. Skipping...\n",
      "Scraping topics repositories for \"COVID-19\"\n",
      "The file COVID-19.csv already exists. Skipping...\n",
      "Scraping topics repositories for \"C++\"\n",
      "The file C++.csv already exists. Skipping...\n"
     ]
    }
   ],
   "source": [
    "scrape_topics_repo()"
   ]
  },
  {
   "cell_type": "code",
   "execution_count": null,
   "id": "fdfc0761",
   "metadata": {},
   "outputs": [],
   "source": []
  },
  {
   "cell_type": "code",
   "execution_count": null,
   "id": "93128e70",
   "metadata": {},
   "outputs": [],
   "source": []
  }
 ],
 "metadata": {
  "kernelspec": {
   "display_name": "Python 3 (ipykernel)",
   "language": "python",
   "name": "python3"
  },
  "language_info": {
   "codemirror_mode": {
    "name": "ipython",
    "version": 3
   },
   "file_extension": ".py",
   "mimetype": "text/x-python",
   "name": "python",
   "nbconvert_exporter": "python",
   "pygments_lexer": "ipython3",
   "version": "3.9.13"
  }
 },
 "nbformat": 4,
 "nbformat_minor": 5
}
